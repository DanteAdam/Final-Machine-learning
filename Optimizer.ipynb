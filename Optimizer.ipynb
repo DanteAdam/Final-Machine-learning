{
  "nbformat": 4,
  "nbformat_minor": 0,
  "metadata": {
    "colab": {
      "provenance": [],
      "gpuType": "T4"
    },
    "kernelspec": {
      "name": "python3",
      "display_name": "Python 3"
    },
    "language_info": {
      "name": "python"
    },
    "accelerator": "GPU"
  },
  "cells": [
    {
      "cell_type": "code",
      "execution_count": 1,
      "metadata": {
        "colab": {
          "base_uri": "https://localhost:8080/"
        },
        "id": "rLRRLcof_9dl",
        "outputId": "e35f11c2-8ba7-453f-dbb7-8442019230e1"
      },
      "outputs": [
        {
          "output_type": "stream",
          "name": "stdout",
          "text": [
            "Downloading data from https://storage.googleapis.com/tensorflow/tf-keras-datasets/mnist.npz\n",
            "11490434/11490434 [==============================] - 0s 0us/step\n",
            "(60000, 28, 28) (60000,)\n"
          ]
        }
      ],
      "source": [
        "import keras\n",
        "from keras.datasets import mnist\n",
        "from keras.models import Sequential\n",
        "from keras.layers import Dense, Dropout, Flatten\n",
        "from keras.layers import Conv2D, MaxPooling2D\n",
        "from keras import backend as K\n",
        "(x_train, y_train), (x_test, y_test) = mnist.load_data()\n",
        "print(x_train.shape, y_train.shape)"
      ]
    },
    {
      "cell_type": "code",
      "source": [
        "x_train= x_train.reshape(x_train.shape[0],28,28,1)\n",
        "x_test=  x_test.reshape(x_test.shape[0],28,28,1)\n",
        "input_shape=(28,28,1)\n",
        "y_train=keras.utils.to_categorical(y_train)#,num_classes=)\n",
        "y_test=keras.utils.to_categorical(y_test)#, num_classes)\n",
        "x_train= x_train.astype('float32')\n",
        "x_test= x_test.astype('float32')\n",
        "x_train /= 255\n",
        "x_test /=255"
      ],
      "metadata": {
        "id": "R-otGg3LAGQz"
      },
      "execution_count": 2,
      "outputs": []
    },
    {
      "cell_type": "code",
      "source": [
        "batch_size=64\n",
        "\n",
        "num_classes=10\n",
        "\n",
        "epochs=10\n",
        "\n",
        "def build_model(optimizer):\n",
        "\n",
        "  model=Sequential()\n",
        "  model.add(Conv2D(32,kernel_size=(3,3),activation='relu',input_shape=input_shape))\n",
        "  model.add(MaxPooling2D(pool_size=(2,2)))\n",
        "  model.add(Dropout(0.25))\n",
        "  model.add(Flatten())\n",
        "  model.add(Dense(256, activation='relu'))\n",
        "  model.add(Dropout(0.5))\n",
        "  model.add(Dense(num_classes, activation='softmax'))\n",
        "  model.compile(loss=keras.losses.categorical_crossentropy, optimizer= optimizer, metrics=['accuracy'])\n",
        "\n",
        "  return model"
      ],
      "metadata": {
        "id": "wMHRfIp3AJA9"
      },
      "execution_count": 3,
      "outputs": []
    },
    {
      "cell_type": "code",
      "source": [
        "import pandas as pd\n",
        "import time\n",
        "optimizers = ['Adadelta', 'Adagrad', 'Adam', 'RMSprop', 'SGD']\n",
        "histories = {}\n",
        "training_times = {}\n",
        "for opt in optimizers:\n",
        "    model = build_model(opt)\n",
        "\n",
        "    start_time = time.time()\n",
        "    hist = model.fit(x_train, y_train, batch_size=batch_size, epochs=epochs, verbose=1, validation_data=(x_test, y_test))\n",
        "    end_time = time.time()\n",
        "\n",
        "    training_time = end_time - start_time\n",
        "\n",
        "    histories[opt] = hist.history\n",
        "    training_times[opt] = training_time\n"
      ],
      "metadata": {
        "colab": {
          "base_uri": "https://localhost:8080/"
        },
        "id": "g2DSsMl_APam",
        "outputId": "ec3a9e2c-4b9d-4603-f4a1-0050d8a73618"
      },
      "execution_count": 9,
      "outputs": [
        {
          "output_type": "stream",
          "name": "stdout",
          "text": [
            "Epoch 1/10\n",
            "938/938 [==============================] - 5s 4ms/step - loss: 2.2648 - accuracy: 0.1715 - val_loss: 2.1980 - val_accuracy: 0.5035\n",
            "Epoch 2/10\n",
            "938/938 [==============================] - 5s 5ms/step - loss: 2.1579 - accuracy: 0.3605 - val_loss: 2.0762 - val_accuracy: 0.6567\n",
            "Epoch 3/10\n",
            "938/938 [==============================] - 4s 4ms/step - loss: 2.0383 - accuracy: 0.4940 - val_loss: 1.9365 - val_accuracy: 0.7162\n",
            "Epoch 4/10\n",
            "938/938 [==============================] - 4s 4ms/step - loss: 1.9003 - accuracy: 0.5761 - val_loss: 1.7796 - val_accuracy: 0.7504\n",
            "Epoch 5/10\n",
            "938/938 [==============================] - 5s 5ms/step - loss: 1.7531 - accuracy: 0.6270 - val_loss: 1.6154 - val_accuracy: 0.7727\n",
            "Epoch 6/10\n",
            "938/938 [==============================] - 4s 4ms/step - loss: 1.6002 - accuracy: 0.6654 - val_loss: 1.4528 - val_accuracy: 0.7907\n",
            "Epoch 7/10\n",
            "938/938 [==============================] - 4s 4ms/step - loss: 1.4558 - accuracy: 0.6890 - val_loss: 1.2999 - val_accuracy: 0.8032\n",
            "Epoch 8/10\n",
            "938/938 [==============================] - 5s 6ms/step - loss: 1.3227 - accuracy: 0.7085 - val_loss: 1.1628 - val_accuracy: 0.8113\n",
            "Epoch 9/10\n",
            "938/938 [==============================] - 4s 4ms/step - loss: 1.2082 - accuracy: 0.7231 - val_loss: 1.0438 - val_accuracy: 0.8221\n",
            "Epoch 10/10\n",
            "938/938 [==============================] - 4s 5ms/step - loss: 1.1088 - accuracy: 0.7361 - val_loss: 0.9431 - val_accuracy: 0.8301\n",
            "Epoch 1/10\n",
            "938/938 [==============================] - 5s 5ms/step - loss: 1.5770 - accuracy: 0.5521 - val_loss: 0.7770 - val_accuracy: 0.8434\n",
            "Epoch 2/10\n",
            "938/938 [==============================] - 4s 4ms/step - loss: 0.7532 - accuracy: 0.7871 - val_loss: 0.4764 - val_accuracy: 0.8816\n",
            "Epoch 3/10\n",
            "938/938 [==============================] - 4s 5ms/step - loss: 0.5779 - accuracy: 0.8307 - val_loss: 0.3912 - val_accuracy: 0.8981\n",
            "Epoch 4/10\n",
            "938/938 [==============================] - 4s 5ms/step - loss: 0.5068 - accuracy: 0.8508 - val_loss: 0.3490 - val_accuracy: 0.9081\n",
            "Epoch 5/10\n",
            "938/938 [==============================] - 4s 4ms/step - loss: 0.4612 - accuracy: 0.8634 - val_loss: 0.3217 - val_accuracy: 0.9122\n",
            "Epoch 6/10\n",
            "938/938 [==============================] - 4s 4ms/step - loss: 0.4305 - accuracy: 0.8719 - val_loss: 0.3011 - val_accuracy: 0.9188\n",
            "Epoch 7/10\n",
            "938/938 [==============================] - 5s 5ms/step - loss: 0.4035 - accuracy: 0.8796 - val_loss: 0.2844 - val_accuracy: 0.9217\n",
            "Epoch 8/10\n",
            "938/938 [==============================] - 4s 4ms/step - loss: 0.3871 - accuracy: 0.8857 - val_loss: 0.2715 - val_accuracy: 0.9235\n",
            "Epoch 9/10\n",
            "938/938 [==============================] - 4s 4ms/step - loss: 0.3704 - accuracy: 0.8896 - val_loss: 0.2599 - val_accuracy: 0.9274\n",
            "Epoch 10/10\n",
            "938/938 [==============================] - 4s 5ms/step - loss: 0.3589 - accuracy: 0.8941 - val_loss: 0.2507 - val_accuracy: 0.9289\n",
            "Epoch 1/10\n",
            "938/938 [==============================] - 5s 5ms/step - loss: 0.2288 - accuracy: 0.9289 - val_loss: 0.0683 - val_accuracy: 0.9787\n",
            "Epoch 2/10\n",
            "938/938 [==============================] - 4s 5ms/step - loss: 0.0915 - accuracy: 0.9720 - val_loss: 0.0531 - val_accuracy: 0.9829\n",
            "Epoch 3/10\n",
            "938/938 [==============================] - 4s 5ms/step - loss: 0.0707 - accuracy: 0.9787 - val_loss: 0.0403 - val_accuracy: 0.9869\n",
            "Epoch 4/10\n",
            "938/938 [==============================] - 4s 4ms/step - loss: 0.0567 - accuracy: 0.9821 - val_loss: 0.0410 - val_accuracy: 0.9855\n",
            "Epoch 5/10\n",
            "938/938 [==============================] - 4s 5ms/step - loss: 0.0489 - accuracy: 0.9848 - val_loss: 0.0361 - val_accuracy: 0.9879\n",
            "Epoch 6/10\n",
            "938/938 [==============================] - 4s 4ms/step - loss: 0.0428 - accuracy: 0.9860 - val_loss: 0.0388 - val_accuracy: 0.9870\n",
            "Epoch 7/10\n",
            "938/938 [==============================] - 4s 4ms/step - loss: 0.0355 - accuracy: 0.9887 - val_loss: 0.0378 - val_accuracy: 0.9876\n",
            "Epoch 8/10\n",
            "938/938 [==============================] - 4s 5ms/step - loss: 0.0324 - accuracy: 0.9893 - val_loss: 0.0334 - val_accuracy: 0.9891\n",
            "Epoch 9/10\n",
            "938/938 [==============================] - 5s 5ms/step - loss: 0.0282 - accuracy: 0.9910 - val_loss: 0.0343 - val_accuracy: 0.9889\n",
            "Epoch 10/10\n",
            "938/938 [==============================] - 4s 5ms/step - loss: 0.0264 - accuracy: 0.9911 - val_loss: 0.0381 - val_accuracy: 0.9881\n",
            "Epoch 1/10\n",
            "938/938 [==============================] - 6s 5ms/step - loss: 0.2421 - accuracy: 0.9269 - val_loss: 0.0719 - val_accuracy: 0.9768\n",
            "Epoch 2/10\n",
            "938/938 [==============================] - 4s 5ms/step - loss: 0.0972 - accuracy: 0.9713 - val_loss: 0.0544 - val_accuracy: 0.9828\n",
            "Epoch 3/10\n",
            "938/938 [==============================] - 4s 4ms/step - loss: 0.0719 - accuracy: 0.9787 - val_loss: 0.0441 - val_accuracy: 0.9844\n",
            "Epoch 4/10\n",
            "938/938 [==============================] - 5s 5ms/step - loss: 0.0617 - accuracy: 0.9809 - val_loss: 0.0439 - val_accuracy: 0.9842\n",
            "Epoch 5/10\n",
            "938/938 [==============================] - 4s 4ms/step - loss: 0.0563 - accuracy: 0.9831 - val_loss: 0.0365 - val_accuracy: 0.9873\n",
            "Epoch 6/10\n",
            "938/938 [==============================] - 4s 4ms/step - loss: 0.0511 - accuracy: 0.9846 - val_loss: 0.0360 - val_accuracy: 0.9874\n",
            "Epoch 7/10\n",
            "938/938 [==============================] - 5s 5ms/step - loss: 0.0458 - accuracy: 0.9858 - val_loss: 0.0379 - val_accuracy: 0.9874\n",
            "Epoch 8/10\n",
            "938/938 [==============================] - 4s 5ms/step - loss: 0.0460 - accuracy: 0.9859 - val_loss: 0.0404 - val_accuracy: 0.9865\n",
            "Epoch 9/10\n",
            "938/938 [==============================] - 4s 4ms/step - loss: 0.0422 - accuracy: 0.9867 - val_loss: 0.0361 - val_accuracy: 0.9878\n",
            "Epoch 10/10\n",
            "938/938 [==============================] - 5s 5ms/step - loss: 0.0418 - accuracy: 0.9875 - val_loss: 0.0366 - val_accuracy: 0.9882\n",
            "Epoch 1/10\n",
            "938/938 [==============================] - 5s 4ms/step - loss: 0.8210 - accuracy: 0.7528 - val_loss: 0.3061 - val_accuracy: 0.9152\n",
            "Epoch 2/10\n",
            "938/938 [==============================] - 5s 5ms/step - loss: 0.3810 - accuracy: 0.8847 - val_loss: 0.2296 - val_accuracy: 0.9347\n",
            "Epoch 3/10\n",
            "938/938 [==============================] - 4s 4ms/step - loss: 0.3146 - accuracy: 0.9062 - val_loss: 0.1947 - val_accuracy: 0.9428\n",
            "Epoch 4/10\n",
            "938/938 [==============================] - 4s 4ms/step - loss: 0.2747 - accuracy: 0.9164 - val_loss: 0.1700 - val_accuracy: 0.9506\n",
            "Epoch 5/10\n",
            "938/938 [==============================] - 4s 5ms/step - loss: 0.2460 - accuracy: 0.9255 - val_loss: 0.1548 - val_accuracy: 0.9531\n",
            "Epoch 6/10\n",
            "938/938 [==============================] - 4s 4ms/step - loss: 0.2295 - accuracy: 0.9309 - val_loss: 0.1394 - val_accuracy: 0.9584\n",
            "Epoch 7/10\n",
            "938/938 [==============================] - 4s 4ms/step - loss: 0.2122 - accuracy: 0.9359 - val_loss: 0.1275 - val_accuracy: 0.9620\n",
            "Epoch 8/10\n",
            "938/938 [==============================] - 5s 5ms/step - loss: 0.1976 - accuracy: 0.9404 - val_loss: 0.1185 - val_accuracy: 0.9642\n",
            "Epoch 9/10\n",
            "938/938 [==============================] - 4s 4ms/step - loss: 0.1884 - accuracy: 0.9435 - val_loss: 0.1123 - val_accuracy: 0.9663\n",
            "Epoch 10/10\n",
            "938/938 [==============================] - 4s 4ms/step - loss: 0.1818 - accuracy: 0.9455 - val_loss: 0.1087 - val_accuracy: 0.9677\n"
          ]
        }
      ]
    },
    {
      "cell_type": "code",
      "source": [
        "# Creating a DataFrame to display the results\n",
        "data = {\n",
        "    'Optimizer': optimizers,\n",
        "    'Training Time (seconds)': [training_times[opt] for opt in optimizers],\n",
        "    'Training Loss': [histories[opt]['loss'][-1] for opt in optimizers],  # Last epoch training loss\n",
        "    'Validation Loss': [histories[opt]['val_loss'][-1] for opt in optimizers],  # Last epoch validation loss\n",
        "    'Accuracy': [histories[opt]['accuracy'][-1] for opt in optimizers]  # Last epoch accuracy\n",
        "}\n",
        "df = pd.DataFrame(data)\n",
        "\n",
        "print(df)"
      ],
      "metadata": {
        "colab": {
          "base_uri": "https://localhost:8080/"
        },
        "id": "5sEw2UrTCuDb",
        "outputId": "a101e116-6cb2-44e7-d521-8e1bf03caf13"
      },
      "execution_count": 13,
      "outputs": [
        {
          "output_type": "stream",
          "name": "stdout",
          "text": [
            "  Optimizer  Training Time (seconds)  Training Loss  Validation Loss  Accuracy\n",
            "0  Adadelta                45.310518       1.108847         0.943058  0.736133\n",
            "1   Adagrad                44.053698       0.358912         0.250745  0.894117\n",
            "2      Adam                44.249380       0.026380         0.038096  0.991067\n",
            "3   RMSprop                83.174181       0.041816         0.036587  0.987533\n",
            "4       SGD                42.773012       0.181820         0.108677  0.945467\n"
          ]
        }
      ]
    },
    {
      "cell_type": "code",
      "source": [
        "import matplotlib.pyplot as plt\n",
        "# Visualization - Bar plot for Training Time, Losses, and Accuracy\n",
        "# Visualization - Accuracy comparison using Matplotlib\n",
        "plt.figure(figsize=(8, 6))\n",
        "plt.bar(df['Optimizer'], df['Accuracy'], color='skyblue')\n",
        "plt.title('Accuracy Comparison of Optimizers')\n",
        "plt.xlabel('Optimizers')\n",
        "plt.ylabel('Accuracy')\n",
        "plt.xticks(rotation=45)\n",
        "plt.tight_layout()\n",
        "plt.show()"
      ],
      "metadata": {
        "colab": {
          "base_uri": "https://localhost:8080/",
          "height": 607
        },
        "id": "m5pR_9PlEisp",
        "outputId": "bf938f48-daf0-430a-e294-bc55af520aae"
      },
      "execution_count": 22,
      "outputs": [
        {
          "output_type": "display_data",
          "data": {
            "text/plain": [
              "<Figure size 800x600 with 1 Axes>"
            ],
            "image/png": "[encoded data removed]"
          },
          "metadata": {}
        }
      ]
    }
  ]
}